{
 "cells": [
  {
   "cell_type": "code",
   "execution_count": 1,
   "metadata": {},
   "outputs": [],
   "source": [
    "import os\n",
    "import shutil\n",
    "from glob import glob\n",
    "import numpy as np\n"
   ]
  },
  {
   "cell_type": "code",
   "execution_count": 2,
   "metadata": {},
   "outputs": [],
   "source": [
    "# directory paths\n",
    "train_dir = r'train'\n",
    "validation_dir = r'/validation'\n"
   ]
  },
  {
   "cell_type": "code",
   "execution_count": 3,
   "metadata": {},
   "outputs": [],
   "source": [
    "# Making sure the validation directory exists\n",
    "if not os.path.exists(validation_dir):\n",
    "    os.makedirs(validation_dir)"
   ]
  },
  {
   "cell_type": "code",
   "execution_count": 4,
   "metadata": {},
   "outputs": [],
   "source": [
    "# Get the list of class directories in the train_dir\n",
    "classes = [d for d in os.listdir(train_dir) if os.path.isdir(os.path.join(train_dir, d))]\n"
   ]
  },
  {
   "cell_type": "code",
   "execution_count": 5,
   "metadata": {},
   "outputs": [
    {
     "data": {
      "text/plain": [
       "['c7', 'c0', 'c9', 'c8', 'c1', 'c6', 'c3', 'c4', 'c5', 'c2']"
      ]
     },
     "execution_count": 5,
     "metadata": {},
     "output_type": "execute_result"
    }
   ],
   "source": [
    "classes"
   ]
  },
  {
   "cell_type": "code",
   "execution_count": 6,
   "metadata": {},
   "outputs": [
    {
     "name": "stdout",
     "output_type": "stream",
     "text": [
      "Moved 400 images from /Users/AGANGOPA/Desktop/programming/Edvancer-deep-learning/projects/004_distracted_multi_driver/train/c7 to /Users/AGANGOPA/Desktop/programming/Edvancer-deep-learning/projects/004_distracted_multi_driver/validation/c7\n",
      "Moved 497 images from /Users/AGANGOPA/Desktop/programming/Edvancer-deep-learning/projects/004_distracted_multi_driver/train/c0 to /Users/AGANGOPA/Desktop/programming/Edvancer-deep-learning/projects/004_distracted_multi_driver/validation/c0\n",
      "Moved 425 images from /Users/AGANGOPA/Desktop/programming/Edvancer-deep-learning/projects/004_distracted_multi_driver/train/c9 to /Users/AGANGOPA/Desktop/programming/Edvancer-deep-learning/projects/004_distracted_multi_driver/validation/c9\n",
      "Moved 382 images from /Users/AGANGOPA/Desktop/programming/Edvancer-deep-learning/projects/004_distracted_multi_driver/train/c8 to /Users/AGANGOPA/Desktop/programming/Edvancer-deep-learning/projects/004_distracted_multi_driver/validation/c8\n",
      "Moved 453 images from /Users/AGANGOPA/Desktop/programming/Edvancer-deep-learning/projects/004_distracted_multi_driver/train/c1 to /Users/AGANGOPA/Desktop/programming/Edvancer-deep-learning/projects/004_distracted_multi_driver/validation/c1\n",
      "Moved 465 images from /Users/AGANGOPA/Desktop/programming/Edvancer-deep-learning/projects/004_distracted_multi_driver/train/c6 to /Users/AGANGOPA/Desktop/programming/Edvancer-deep-learning/projects/004_distracted_multi_driver/validation/c6\n",
      "Moved 469 images from /Users/AGANGOPA/Desktop/programming/Edvancer-deep-learning/projects/004_distracted_multi_driver/train/c3 to /Users/AGANGOPA/Desktop/programming/Edvancer-deep-learning/projects/004_distracted_multi_driver/validation/c3\n",
      "Moved 465 images from /Users/AGANGOPA/Desktop/programming/Edvancer-deep-learning/projects/004_distracted_multi_driver/train/c4 to /Users/AGANGOPA/Desktop/programming/Edvancer-deep-learning/projects/004_distracted_multi_driver/validation/c4\n",
      "Moved 462 images from /Users/AGANGOPA/Desktop/programming/Edvancer-deep-learning/projects/004_distracted_multi_driver/train/c5 to /Users/AGANGOPA/Desktop/programming/Edvancer-deep-learning/projects/004_distracted_multi_driver/validation/c5\n",
      "Moved 463 images from /Users/AGANGOPA/Desktop/programming/Edvancer-deep-learning/projects/004_distracted_multi_driver/train/c2 to /Users/AGANGOPA/Desktop/programming/Edvancer-deep-learning/projects/004_distracted_multi_driver/validation/c2\n"
     ]
    }
   ],
   "source": [
    "# For each class, create a corresponding directory in the validation directory and move 20% of images\n",
    "for class_name in classes:\n",
    "    # Create a directory for the class in the validation directory if it doesn't exist\n",
    "    class_dir = os.path.join(train_dir, class_name)\n",
    "    validation_class_dir = os.path.join(validation_dir, class_name)\n",
    "    if not os.path.exists(validation_class_dir):\n",
    "        os.makedirs(validation_class_dir)\n",
    "    \n",
    "    # Get a list of all image filenames in the class directory\n",
    "    images = glob(os.path.join(class_dir, '*.jpg'))\n",
    "    \n",
    "    # Randomly select 20% of the images to move to the validation directory\n",
    "    num_to_move = int(len(images) * 0.2)\n",
    "    images_to_move = np.random.choice(images, size=num_to_move, replace=False)\n",
    "    \n",
    "    # Move the selected images\n",
    "    for image_path in images_to_move:\n",
    "        # Get the basename of the image file (e.g., 'img_001.jpg')\n",
    "        image_filename = os.path.basename(image_path)\n",
    "        # Construct the destination path in the validation directory\n",
    "        dest_path = os.path.join(validation_class_dir, image_filename)\n",
    "        # Move the file\n",
    "        shutil.move(image_path, dest_path)\n",
    "        \n",
    "    print(f\"Moved {num_to_move} images from {class_dir} to {validation_class_dir}\")"
   ]
  },
  {
   "cell_type": "code",
   "execution_count": null,
   "metadata": {},
   "outputs": [],
   "source": []
  }
 ],
 "metadata": {
  "kernelspec": {
   "display_name": "tf_metal",
   "language": "python",
   "name": "python3"
  },
  "language_info": {
   "codemirror_mode": {
    "name": "ipython",
    "version": 3
   },
   "file_extension": ".py",
   "mimetype": "text/x-python",
   "name": "python",
   "nbconvert_exporter": "python",
   "pygments_lexer": "ipython3",
   "version": "3.8.18"
  }
 },
 "nbformat": 4,
 "nbformat_minor": 2
}
